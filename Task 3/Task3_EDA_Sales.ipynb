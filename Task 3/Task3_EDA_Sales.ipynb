{
 "cells": [
  {
   "cell_type": "markdown",
   "metadata": {
    "slideshow": {
     "slide_type": "slide"
    }
   },
   "source": [
    "### Task 3: Exploratory Data Analysis - Retail\n",
    "By: Amitkumar Rautray"
   ]
  },
  {
   "cell_type": "markdown",
   "metadata": {
    "slideshow": {
     "slide_type": "slide"
    }
   },
   "source": [
    "### Exploratory Data Analysis\n",
    "<ol> <li>Exploratory Data Analysis – EDA – plays a critical role in understanding the what, why, and how of the problem statement.</li> <li>It’s first in the order of operations that a data analyst will perform when handed a new data source and problem statement.</li> <ol/>"
   ]
  },
  {
   "cell_type": "markdown",
   "metadata": {
    "slideshow": {
     "slide_type": "subslide"
    }
   },
   "source": [
    "![EDA.png](https://blog.camelot-group.com/wp-content/uploads/2019/03/Picture2.png)"
   ]
  },
  {
   "cell_type": "markdown",
   "metadata": {
    "slideshow": {
     "slide_type": "subslide"
    }
   },
   "source": [
    "We are going to use the AUTOPLOTTER library for Data Analysis"
   ]
  },
  {
   "cell_type": "markdown",
   "metadata": {
    "slideshow": {
     "slide_type": "slide"
    }
   },
   "source": [
    "### Autoplotter- Open Source Python Library For GUI Based EDA\n",
    "\n",
    "<ol> <li>Autoplotter is just like a dashboard in which you can load any dataset and start Exploratory Data Analysis</li>. <li>It supports different types of visualizations, statistical analysis of data, plotting according to your selected features, and creates all the major plots.</li><ol> "
   ]
  },
  {
   "cell_type": "code",
   "execution_count": 1,
   "metadata": {
    "slideshow": {
     "slide_type": "skip"
    }
   },
   "outputs": [
    {
     "name": "stdout",
     "output_type": "stream",
     "text": [
      "Requirement already satisfied: autoplotter in c:\\users\\amit pc\\appdata\\local\\programs\\python\\python37\\lib\\site-packages (0.1.0)\n",
      "Requirement already satisfied: pandas in c:\\users\\amit pc\\appdata\\local\\programs\\python\\python37\\lib\\site-packages (from autoplotter) (0.24.2)\n",
      "Requirement already satisfied: jupyter-dash in c:\\users\\amit pc\\appdata\\local\\programs\\python\\python37\\lib\\site-packages (from autoplotter) (0.3.1)\n",
      "Requirement already satisfied: dash in c:\\users\\amit pc\\appdata\\local\\programs\\python\\python37\\lib\\site-packages (from autoplotter) (1.17.0)\n",
      "Requirement already satisfied: numpy in c:\\users\\amit pc\\appdata\\local\\programs\\python\\python37\\lib\\site-packages (from autoplotter) (1.18.5)\n",
      "Requirement already satisfied: dash-bootstrap-components in c:\\users\\amit pc\\appdata\\local\\programs\\python\\python37\\lib\\site-packages (from autoplotter) (0.10.7)\n",
      "Requirement already satisfied: dash-table in c:\\users\\amit pc\\appdata\\local\\programs\\python\\python37\\lib\\site-packages (from autoplotter) (4.11.0)\n",
      "Requirement already satisfied: python-dateutil>=2.5.0 in c:\\users\\amit pc\\appdata\\local\\programs\\python\\python37\\lib\\site-packages (from pandas->autoplotter) (2.8.1)\n",
      "Requirement already satisfied: pytz>=2011k in c:\\users\\amit pc\\appdata\\local\\programs\\python\\python37\\lib\\site-packages (from pandas->autoplotter) (2020.1)\n",
      "Requirement already satisfied: requests in c:\\users\\amit pc\\appdata\\local\\programs\\python\\python37\\lib\\site-packages (from jupyter-dash->autoplotter) (2.25.0)\n",
      "Requirement already satisfied: ansi2html in c:\\users\\amit pc\\appdata\\local\\programs\\python\\python37\\lib\\site-packages (from jupyter-dash->autoplotter) (1.5.2)\n",
      "Requirement already satisfied: retrying in c:\\users\\amit pc\\appdata\\local\\programs\\python\\python37\\lib\\site-packages (from jupyter-dash->autoplotter) (1.3.3)\n",
      "Requirement already satisfied: flask in c:\\users\\amit pc\\appdata\\local\\programs\\python\\python37\\lib\\site-packages (from jupyter-dash->autoplotter) (1.1.2)\n",
      "Requirement already satisfied: ipykernel in c:\\users\\amit pc\\appdata\\local\\programs\\python\\python37\\lib\\site-packages (from jupyter-dash->autoplotter) (5.3.4)\n",
      "Requirement already satisfied: ipython in c:\\users\\amit pc\\appdata\\local\\programs\\python\\python37\\lib\\site-packages (from jupyter-dash->autoplotter) (7.18.1)\n",
      "Requirement already satisfied: flask-compress in c:\\users\\amit pc\\appdata\\local\\programs\\python\\python37\\lib\\site-packages (from dash->autoplotter) (1.8.0)\n",
      "Requirement already satisfied: plotly in c:\\users\\amit pc\\appdata\\local\\programs\\python\\python37\\lib\\site-packages (from dash->autoplotter) (4.9.0)\n",
      "Requirement already satisfied: dash-html-components==1.1.1 in c:\\users\\amit pc\\appdata\\local\\programs\\python\\python37\\lib\\site-packages (from dash->autoplotter) (1.1.1)\n",
      "Requirement already satisfied: future in c:\\users\\amit pc\\appdata\\local\\programs\\python\\python37\\lib\\site-packages (from dash->autoplotter) (0.18.2)\n",
      "Requirement already satisfied: dash-core-components==1.13.0 in c:\\users\\amit pc\\appdata\\local\\programs\\python\\python37\\lib\\site-packages (from dash->autoplotter) (1.13.0)\n",
      "Requirement already satisfied: dash-renderer==1.8.3 in c:\\users\\amit pc\\appdata\\local\\programs\\python\\python37\\lib\\site-packages (from dash->autoplotter) (1.8.3)\n",
      "Requirement already satisfied: six>=1.5 in c:\\users\\amit pc\\appdata\\local\\programs\\python\\python37\\lib\\site-packages (from python-dateutil>=2.5.0->pandas->autoplotter) (1.12.0)\n",
      "Requirement already satisfied: idna<3,>=2.5 in c:\\users\\amit pc\\appdata\\local\\programs\\python\\python37\\lib\\site-packages (from requests->jupyter-dash->autoplotter) (2.8)\n",
      "Requirement already satisfied: chardet<4,>=3.0.2 in c:\\users\\amit pc\\appdata\\local\\programs\\python\\python37\\lib\\site-packages (from requests->jupyter-dash->autoplotter) (3.0.4)\n",
      "Requirement already satisfied: urllib3<1.27,>=1.21.1 in c:\\users\\amit pc\\appdata\\local\\programs\\python\\python37\\lib\\site-packages (from requests->jupyter-dash->autoplotter) (1.24.3)\n",
      "Requirement already satisfied: certifi>=2017.4.17 in c:\\users\\amit pc\\appdata\\local\\programs\\python\\python37\\lib\\site-packages (from requests->jupyter-dash->autoplotter) (2020.6.20)\n",
      "Requirement already satisfied: itsdangerous>=0.24 in c:\\users\\amit pc\\appdata\\local\\programs\\python\\python37\\lib\\site-packages (from flask->jupyter-dash->autoplotter) (1.1.0)\n",
      "Requirement already satisfied: click>=5.1 in c:\\users\\amit pc\\appdata\\local\\programs\\python\\python37\\lib\\site-packages (from flask->jupyter-dash->autoplotter) (7.0)\n",
      "Requirement already satisfied: Werkzeug>=0.15 in c:\\users\\amit pc\\appdata\\local\\programs\\python\\python37\\lib\\site-packages (from flask->jupyter-dash->autoplotter) (1.0.1)\n",
      "Requirement already satisfied: Jinja2>=2.10.1 in c:\\users\\amit pc\\appdata\\local\\programs\\python\\python37\\lib\\site-packages (from flask->jupyter-dash->autoplotter) (2.11.2)\n",
      "Requirement already satisfied: tornado>=4.2 in c:\\users\\amit pc\\appdata\\local\\programs\\python\\python37\\lib\\site-packages (from ipykernel->jupyter-dash->autoplotter) (6.0.4)\n",
      "Requirement already satisfied: traitlets>=4.1.0 in c:\\users\\amit pc\\appdata\\local\\programs\\python\\python37\\lib\\site-packages (from ipykernel->jupyter-dash->autoplotter) (4.3.3)\n",
      "Requirement already satisfied: jupyter-client in c:\\users\\amit pc\\appdata\\local\\programs\\python\\python37\\lib\\site-packages (from ipykernel->jupyter-dash->autoplotter) (6.1.7)\n",
      "Requirement already satisfied: pygments in c:\\users\\amit pc\\appdata\\local\\programs\\python\\python37\\lib\\site-packages (from ipython->jupyter-dash->autoplotter) (2.6.1)\n",
      "Requirement already satisfied: prompt-toolkit!=3.0.0,!=3.0.1,<3.1.0,>=2.0.0 in c:\\users\\amit pc\\appdata\\local\\programs\\python\\python37\\lib\\site-packages (from ipython->jupyter-dash->autoplotter) (3.0.7)\n",
      "Requirement already satisfied: backcall in c:\\users\\amit pc\\appdata\\local\\programs\\python\\python37\\lib\\site-packages (from ipython->jupyter-dash->autoplotter) (0.2.0)\n",
      "Requirement already satisfied: jedi>=0.10 in c:\\users\\amit pc\\appdata\\local\\programs\\python\\python37\\lib\\site-packages (from ipython->jupyter-dash->autoplotter) (0.17.2)\n",
      "Requirement already satisfied: setuptools>=18.5 in c:\\users\\amit pc\\appdata\\local\\programs\\python\\python37\\lib\\site-packages (from ipython->jupyter-dash->autoplotter) (50.3.2)\n",
      "Requirement already satisfied: decorator in c:\\users\\amit pc\\appdata\\local\\programs\\python\\python37\\lib\\site-packages (from ipython->jupyter-dash->autoplotter) (4.4.2)\n",
      "Requirement already satisfied: pickleshare in c:\\users\\amit pc\\appdata\\local\\programs\\python\\python37\\lib\\site-packages (from ipython->jupyter-dash->autoplotter) (0.7.5)\n",
      "Requirement already satisfied: colorama; sys_platform == \"win32\" in c:\\users\\amit pc\\appdata\\local\\programs\\python\\python37\\lib\\site-packages (from ipython->jupyter-dash->autoplotter) (0.4.3)\n",
      "Requirement already satisfied: brotli in c:\\users\\amit pc\\appdata\\local\\programs\\python\\python37\\lib\\site-packages (from flask-compress->dash->autoplotter) (1.0.9)\n",
      "Requirement already satisfied: MarkupSafe>=0.23 in c:\\users\\amit pc\\appdata\\local\\programs\\python\\python37\\lib\\site-packages (from Jinja2>=2.10.1->flask->jupyter-dash->autoplotter) (1.1.1)\n",
      "Requirement already satisfied: ipython-genutils in c:\\users\\amit pc\\appdata\\local\\programs\\python\\python37\\lib\\site-packages (from traitlets>=4.1.0->ipykernel->jupyter-dash->autoplotter) (0.2.0)\n",
      "Requirement already satisfied: jupyter-core>=4.6.0 in c:\\users\\amit pc\\appdata\\local\\programs\\python\\python37\\lib\\site-packages (from jupyter-client->ipykernel->jupyter-dash->autoplotter) (4.6.3)\n",
      "Requirement already satisfied: pyzmq>=13 in c:\\users\\amit pc\\appdata\\local\\programs\\python\\python37\\lib\\site-packages (from jupyter-client->ipykernel->jupyter-dash->autoplotter) (19.0.2)\n",
      "Requirement already satisfied: wcwidth in c:\\users\\amit pc\\appdata\\local\\programs\\python\\python37\\lib\\site-packages (from prompt-toolkit!=3.0.0,!=3.0.1,<3.1.0,>=2.0.0->ipython->jupyter-dash->autoplotter) (0.2.5)\n",
      "Requirement already satisfied: parso<0.8.0,>=0.7.0 in c:\\users\\amit pc\\appdata\\local\\programs\\python\\python37\\lib\\site-packages (from jedi>=0.10->ipython->jupyter-dash->autoplotter) (0.7.1)\n",
      "Requirement already satisfied: pywin32>=1.0; sys_platform == \"win32\" in c:\\users\\amit pc\\appdata\\local\\programs\\python\\python37\\lib\\site-packages (from jupyter-core>=4.6.0->jupyter-client->ipykernel->jupyter-dash->autoplotter) (227)\n"
     ]
    }
   ],
   "source": [
    "!pip install autoplotter\n",
    "from autoplotter import run_app \n",
    "import pandas as pd\n",
    "import warnings\n",
    "warnings.filterwarnings('ignore')"
   ]
  },
  {
   "cell_type": "code",
   "execution_count": 8,
   "metadata": {
    "scrolled": true,
    "slideshow": {
     "slide_type": "slide"
    }
   },
   "outputs": [
    {
     "data": {
      "text/html": [
       "<div>\n",
       "<style scoped>\n",
       "    .dataframe tbody tr th:only-of-type {\n",
       "        vertical-align: middle;\n",
       "    }\n",
       "\n",
       "    .dataframe tbody tr th {\n",
       "        vertical-align: top;\n",
       "    }\n",
       "\n",
       "    .dataframe thead th {\n",
       "        text-align: right;\n",
       "    }\n",
       "</style>\n",
       "<table border=\"1\" class=\"dataframe\">\n",
       "  <thead>\n",
       "    <tr style=\"text-align: right;\">\n",
       "      <th></th>\n",
       "      <th>Ship Mode</th>\n",
       "      <th>Segment</th>\n",
       "      <th>Country</th>\n",
       "      <th>City</th>\n",
       "      <th>State</th>\n",
       "      <th>Postal Code</th>\n",
       "      <th>Region</th>\n",
       "      <th>Category</th>\n",
       "      <th>Sub-Category</th>\n",
       "      <th>Sales</th>\n",
       "      <th>Quantity</th>\n",
       "      <th>Discount</th>\n",
       "      <th>Profit</th>\n",
       "    </tr>\n",
       "  </thead>\n",
       "  <tbody>\n",
       "    <tr>\n",
       "      <th>0</th>\n",
       "      <td>Second Class</td>\n",
       "      <td>Consumer</td>\n",
       "      <td>United States</td>\n",
       "      <td>Henderson</td>\n",
       "      <td>Kentucky</td>\n",
       "      <td>42420</td>\n",
       "      <td>South</td>\n",
       "      <td>Furniture</td>\n",
       "      <td>Bookcases</td>\n",
       "      <td>261.9600</td>\n",
       "      <td>2</td>\n",
       "      <td>0.00</td>\n",
       "      <td>41.9136</td>\n",
       "    </tr>\n",
       "    <tr>\n",
       "      <th>1</th>\n",
       "      <td>Second Class</td>\n",
       "      <td>Consumer</td>\n",
       "      <td>United States</td>\n",
       "      <td>Henderson</td>\n",
       "      <td>Kentucky</td>\n",
       "      <td>42420</td>\n",
       "      <td>South</td>\n",
       "      <td>Furniture</td>\n",
       "      <td>Chairs</td>\n",
       "      <td>731.9400</td>\n",
       "      <td>3</td>\n",
       "      <td>0.00</td>\n",
       "      <td>219.5820</td>\n",
       "    </tr>\n",
       "    <tr>\n",
       "      <th>2</th>\n",
       "      <td>Second Class</td>\n",
       "      <td>Corporate</td>\n",
       "      <td>United States</td>\n",
       "      <td>Los Angeles</td>\n",
       "      <td>California</td>\n",
       "      <td>90036</td>\n",
       "      <td>West</td>\n",
       "      <td>Office Supplies</td>\n",
       "      <td>Labels</td>\n",
       "      <td>14.6200</td>\n",
       "      <td>2</td>\n",
       "      <td>0.00</td>\n",
       "      <td>6.8714</td>\n",
       "    </tr>\n",
       "    <tr>\n",
       "      <th>3</th>\n",
       "      <td>Standard Class</td>\n",
       "      <td>Consumer</td>\n",
       "      <td>United States</td>\n",
       "      <td>Fort Lauderdale</td>\n",
       "      <td>Florida</td>\n",
       "      <td>33311</td>\n",
       "      <td>South</td>\n",
       "      <td>Furniture</td>\n",
       "      <td>Tables</td>\n",
       "      <td>957.5775</td>\n",
       "      <td>5</td>\n",
       "      <td>0.45</td>\n",
       "      <td>-383.0310</td>\n",
       "    </tr>\n",
       "    <tr>\n",
       "      <th>4</th>\n",
       "      <td>Standard Class</td>\n",
       "      <td>Consumer</td>\n",
       "      <td>United States</td>\n",
       "      <td>Fort Lauderdale</td>\n",
       "      <td>Florida</td>\n",
       "      <td>33311</td>\n",
       "      <td>South</td>\n",
       "      <td>Office Supplies</td>\n",
       "      <td>Storage</td>\n",
       "      <td>22.3680</td>\n",
       "      <td>2</td>\n",
       "      <td>0.20</td>\n",
       "      <td>2.5164</td>\n",
       "    </tr>\n",
       "  </tbody>\n",
       "</table>\n",
       "</div>"
      ],
      "text/plain": [
       "        Ship Mode    Segment        Country             City       State  \\\n",
       "0    Second Class   Consumer  United States        Henderson    Kentucky   \n",
       "1    Second Class   Consumer  United States        Henderson    Kentucky   \n",
       "2    Second Class  Corporate  United States      Los Angeles  California   \n",
       "3  Standard Class   Consumer  United States  Fort Lauderdale     Florida   \n",
       "4  Standard Class   Consumer  United States  Fort Lauderdale     Florida   \n",
       "\n",
       "   Postal Code Region         Category Sub-Category     Sales  Quantity  \\\n",
       "0        42420  South        Furniture    Bookcases  261.9600         2   \n",
       "1        42420  South        Furniture       Chairs  731.9400         3   \n",
       "2        90036   West  Office Supplies       Labels   14.6200         2   \n",
       "3        33311  South        Furniture       Tables  957.5775         5   \n",
       "4        33311  South  Office Supplies      Storage   22.3680         2   \n",
       "\n",
       "   Discount    Profit  \n",
       "0      0.00   41.9136  \n",
       "1      0.00  219.5820  \n",
       "2      0.00    6.8714  \n",
       "3      0.45 -383.0310  \n",
       "4      0.20    2.5164  "
      ]
     },
     "execution_count": 8,
     "metadata": {},
     "output_type": "execute_result"
    }
   ],
   "source": [
    "df = pd.read_csv('SampleSuperstore.csv')\n",
    "df.head()"
   ]
  },
  {
   "cell_type": "markdown",
   "metadata": {
    "slideshow": {
     "slide_type": "slide"
    }
   },
   "source": [
    "#### Data Statitics\n",
    "\n",
    "<ol><li>Categorical columns </li><li> Numerical Columns</li></ol>"
   ]
  },
  {
   "cell_type": "code",
   "execution_count": 3,
   "metadata": {
    "slideshow": {
     "slide_type": "subslide"
    }
   },
   "outputs": [
    {
     "data": {
      "text/html": [
       "\n",
       "        <iframe\n",
       "            width=\"100%\"\n",
       "            height=\"650\"\n",
       "            src=\"http://127.0.0.1:8050/\"\n",
       "            frameborder=\"0\"\n",
       "            allowfullscreen\n",
       "        ></iframe>\n",
       "        "
      ],
      "text/plain": [
       "<IPython.lib.display.IFrame at 0x1c7192ccf88>"
      ]
     },
     "metadata": {},
     "output_type": "display_data"
    }
   ],
   "source": [
    "run_app(df, mode = 'inline')"
   ]
  },
  {
   "cell_type": "markdown",
   "metadata": {
    "slideshow": {
     "slide_type": "slide"
    }
   },
   "source": [
    "#### Data Exploration\n",
    "\n",
    "<ol><li>Data Distribution</li><li>Histogram</li><li>Statistical Analysis</li></ol>"
   ]
  },
  {
   "cell_type": "code",
   "execution_count": 4,
   "metadata": {
    "slideshow": {
     "slide_type": "subslide"
    }
   },
   "outputs": [
    {
     "data": {
      "text/html": [
       "\n",
       "        <iframe\n",
       "            width=\"100%\"\n",
       "            height=\"650\"\n",
       "            src=\"http://127.0.0.1:8050/\"\n",
       "            frameborder=\"0\"\n",
       "            allowfullscreen\n",
       "        ></iframe>\n",
       "        "
      ],
      "text/plain": [
       "<IPython.lib.display.IFrame at 0x1c71a580508>"
      ]
     },
     "metadata": {},
     "output_type": "display_data"
    }
   ],
   "source": [
    "run_app(df, mode = 'inline')"
   ]
  },
  {
   "cell_type": "markdown",
   "metadata": {
    "slideshow": {
     "slide_type": "slide"
    }
   },
   "source": [
    "#### Data Association\n",
    "<ol><li>Correlation between Attributes</li> <li>Heatmap of Correlations</li></ol>"
   ]
  },
  {
   "cell_type": "code",
   "execution_count": 5,
   "metadata": {
    "slideshow": {
     "slide_type": "subslide"
    }
   },
   "outputs": [
    {
     "data": {
      "text/html": [
       "\n",
       "        <iframe\n",
       "            width=\"100%\"\n",
       "            height=\"650\"\n",
       "            src=\"http://127.0.0.1:8050/\"\n",
       "            frameborder=\"0\"\n",
       "            allowfullscreen\n",
       "        ></iframe>\n",
       "        "
      ],
      "text/plain": [
       "<IPython.lib.display.IFrame at 0x1c71a7d5048>"
      ]
     },
     "metadata": {},
     "output_type": "display_data"
    }
   ],
   "source": [
    "run_app(df, mode = 'inline')"
   ]
  },
  {
   "cell_type": "markdown",
   "metadata": {
    "slideshow": {
     "slide_type": "slide"
    }
   },
   "source": [
    "#### Visualising graphs \n",
    "<ol>\n",
    "<li>Boxplot</li>\n",
    "<li>Barchart</li>\n",
    "<li>Scatter plot</li>\n",
    "<li>Area plot</li>\n",
    "<li>Violine plot</li>\n",
    "<li>Waterfall chart</li>\n",
    "<li>Pie chart</li>\n",
    "</ol>"
   ]
  },
  {
   "cell_type": "code",
   "execution_count": 6,
   "metadata": {
    "slideshow": {
     "slide_type": "subslide"
    }
   },
   "outputs": [
    {
     "data": {
      "text/html": [
       "\n",
       "        <iframe\n",
       "            width=\"100%\"\n",
       "            height=\"650\"\n",
       "            src=\"http://127.0.0.1:8050/\"\n",
       "            frameborder=\"0\"\n",
       "            allowfullscreen\n",
       "        ></iframe>\n",
       "        "
      ],
      "text/plain": [
       "<IPython.lib.display.IFrame at 0x1c71a89e448>"
      ]
     },
     "metadata": {},
     "output_type": "display_data"
    }
   ],
   "source": [
    "run_app(df,mode = 'inline')"
   ]
  },
  {
   "cell_type": "markdown",
   "metadata": {
    "slideshow": {
     "slide_type": "slide"
    }
   },
   "source": [
    "## Thank You \n",
    "\n",
    "#### [Go to the Support Web Site for Autoplotter](https://analyticsindiamag.com/autoplotter-tutorial-open-source-python-library-for-gui-based-eda/#:~:text=Autoplotter%20is%20an%20open%2Dsource,app%20on%20the%20browser%20window.)"
   ]
  }
 ],
 "metadata": {
  "celltoolbar": "Slideshow",
  "kernelspec": {
   "display_name": "Python 3",
   "language": "python",
   "name": "python3"
  },
  "language_info": {
   "codemirror_mode": {
    "name": "ipython",
    "version": 3
   },
   "file_extension": ".py",
   "mimetype": "text/x-python",
   "name": "python",
   "nbconvert_exporter": "python",
   "pygments_lexer": "ipython3",
   "version": "3.7.8"
  }
 },
 "nbformat": 4,
 "nbformat_minor": 4
}
